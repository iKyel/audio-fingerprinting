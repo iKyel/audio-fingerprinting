
      "1. 000mA0etY38nKdvf1N04af.mp3\n",
      "   Điểm số: 0.11\n",
      "   Độ tin cậy: 0.0%\n",
      "   Hash khớp: 51/23385\n",
      "   Time offset: -612\n",
      "\n",
      "2. 00BuKLSAFkaEkaVAgIMbeA.mp3\n",
      "   Điểm số: 0.06\n",
      "   Độ tin cậy: 0.0%\n",
      "   Hash khớp: 17/5012\n",
      "   Time offset: -460\n",
      "\n"
     ]
    }
   ],
   "source": [
    "# Lấy file đầu tiên để test\n",
    "mp3_files = glob.glob(os.path.join(AUDIO_TEST_DIR, '*.mp3'))\n",
    "if mp3_files:\n",
    "    test_file = mp3_files[0]\n",
    "    print(f'Test với file: {os.path.basename(test_file)}')\n",
    "    \n",
    "    # Tìm kiếm\n",
    "    results = find_similar_audio_optimized(test_file, top_k=2)\n",
    "    \n",
    "    # Vẽ biểu đồ kết quả\n",
    "    # if results:\n",
    "    #     plot_search_results(results)\n",
    "else:\n",
    "    print('Không tìm thấy file MP3 nào để test')"
   ]
  },
  {
   "cell_type": "markdown",
   "metadata": {},
   "source": [
    "## 10. Visualize spectrogram của file test"
   ]
  },
  {
   "cell_type": "code",
   "execution_count": null,
   "metadata": {},
   "outputs": [],
   "source": [
    "# Hiển thị spectrogram với peaks\n",
    "if mp3_files:\n",
    "    visualize_spectrogram_with_peaks(test_file)\n",
    "else:\n",
    "    print('Không có file để visualize')"
   ]
  },
  {
   "cell_type": "markdown",
   "metadata": {},
   "source": [
    "## 11. Xử lý toàn bộ collection (Chạy khi cần)"
   ]
  },
  {
   "cell_type": "code",
   "execution_count": null,
   "metadata": {},
   "outputs": [],
   "source": [
    "# CẢNH BÁO: Cell này sẽ xử lý TẤT CẢ file MP3 trong thư mục\n",
    "# Chỉ chạy khi bạn muốn xây dựng toàn bộ database\n",
    "\n",
    "# Uncomment dòng dưới để chạy\n",
    "# processed, failed = process_all_mp3_files(AUDIO_DIR)\n",
    "\n",
    "print('Cell này sẽ xử lý tất cả file MP3.')\n",
    "print('Uncomment dòng code để chạy khi cần thiết.')"
   ]
  },
  {
   "cell_type": "markdown",
   "metadata": {},
   "source": [
    "## 12. Hàm tiện ích"
   ]
  },
  {
   "cell_type": "code",
   "execution_count": null,
   "metadata": {},
   "outputs": [],
   "source": [
    "def search_by_filename(filename):\n",
    "    \"\"\"Tìm kiếm bằng tên file\"\"\"\n",
    "    file_path = os.path.join(AUDIO_DIR, filename)\n",
    "    if os.path.exists(file_path):\n",
    "        return find_similar_audio(file_path)\n",
    "    else:\n",
    "        print(f'Không tìm thấy file: {filename}')\n",
    "        return None\n",
    "\n",
    "def clear_database():\n",
    "    \"\"\"Xóa toàn bộ database\"\"\"\n",
    "    try:\n",
    "        result = collection.delete_many({})\n",
    "        print(f'Đã xóa {result.deleted_count} documents')\n",
    "        return True\n",
    "    except Exception as e:\n",
    "        print(f'Lỗi khi xóa database: {e}')\n",
    "        return False\n",
    "\n",
    "def list_database_files():\n",
    "    \"\"\"Liệt kê các file trong database\"\"\"\n",
    "    try:\n",
    "        files = collection.find({'type': 'metadata'}, {'filename': 1, 'duration': 1, 'num_hashes': 1})\n",
    "        file_list = list(files)\n",
    "        \n",
    "        if file_list:\n",
    "            print(f'Database chứa {len(file_list)} files:')\n",
    "            print('-' * 60)\n",
    "            for file_doc in file_list:\n",
    "                print(f'{file_doc[\"filename\"]:40} | {file_doc[\"duration\"]:.1f}s | {file_doc[\"num_hashes\"]} hashes')\n",
    "        else:\n",
    "            print('Database trống')\n",
    "        \n",
    "        return file_list\n",
    "    except Exception as e:\n",
    "        print(f'Lỗi khi liệt kê files: {e}')\n",
    "        return []\n",
    "\n",
    "# Hiển thị thống kê hiện tại\n",
    "stats = get_database_stats()\n",
    "if stats:\n",
    "    print('Thống kê database hiện tại:')\n",
    "    print(f'Files: {stats[\"total_files\"]}')\n",
    "    print(f'Hashes: {stats[\"total_hashes\"]}')\n",
    "    print(f'Avg hashes/file: {stats[\"avg_hashes_per_file\"]:.1f}')\n",
    "\n",
    "print('\\nCác hàm tiện ích:')\n",
    "print('- search_by_filename(filename): Tìm kiếm bằng tên file')\n",
    "print('- clear_database(): Xóa toàn bộ database')\n",
    "print('- list_database_files(): Liệt kê files trong database')\n",
    "print('- get_database_stats(): Lấy thống kê database')"
   ]
  },
  {
   "cell_type": "markdown",
   "metadata": {},
   "source": [
    "## Hướng dẫn sử dụng\n",
    "\n",
    "### Bước 1: Cài đặt và khởi tạo\n",
    "1. Chạy cell 1-4 để cài đặt thư viện và khởi tạo hệ thống\n",
    "2. Đảm bảo MongoDB đang chạy trên localhost:27017\n",
    "3. Kiểm tra đường dẫn thư mục audio\n",
    "\n",
    "### Bước 2: Xây dựng database\n",
    "1. Chạy cell 5-6 để xử lý file MP3 (bắt đầu với 10 file test)\n",
    "2. Nếu muốn xử lý toàn bộ collection, chạy cell 11\n",
    "\n",
    "### Bước 3: Tìm kiếm\n",
    "1. Sử dụng `find_similar_audio(file_path)` để tìm file tương tự\n",
    "2. Hoặc `search_by_filename(filename)` để tìm bằng tên file\n",
    "\n",
    "### Bước 4: Visualization\n",
    "1. Sử dụng `visualize_spectrogram_with_peaks(file_path)` để xem spectrogram\n",
    "2. `plot_search_results(results)` để vẽ biểu đồ kết quả\n",
    "\n",
    "### Các tính năng chính:\n",
    "- **Robust**: Sử dụng spectrogram analysis và peak detection\n",
    "- **Fast**: Hashing algorithm cho tìm kiếm nhanh\n",
    "- **Scalable**: MongoDB để lưu trữ large-scale\n",
    "- **Accurate**: Multiple matching criteria và scoring\n",
    "\n",
    "### Tham số có thể điều chỉnh:\n",
    "- `sample_rate`: Tần số sampling (default: 22050)\n",
    "- `n_fft`: Kích thước FFT window (default: 2048)\n",
    "- `hop_length`: Hop length cho STFT (default: 512)\n",
    "- `min_distance`: Khoảng cách tối thiểu giữa peaks (default: 5)\n",
    "- `threshold_abs`: Ngưỡng amplitude cho peak detection (default: -60dB)\n",
    "- `fan_value`: Số peak pairs cho mỗi peak (default: 15)"
   ]
  }
 ],
 "metadata": {
  "kernelspec": {
   "display_name": "Python 3",
   "language": "python",
   "name": "python3"
  },
  "language_info": {
   "codemirror_mode": {
    "name": "ipython",
    "version": 3
   },
   "file_extension": ".py",
   "mimetype": "text/x-python",
   "name": "python",
   "nbconvert_exporter": "python",
   "pygments_lexer": "ipython3",
   "version": "3.11.0"
  }
 },
 "nbformat": 4,
 "nbformat_minor": 4
}
